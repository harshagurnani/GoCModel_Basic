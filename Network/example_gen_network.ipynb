{
 "cells": [
  {
   "cell_type": "code",
   "execution_count": 1,
   "metadata": {},
   "outputs": [],
   "source": [
    "duration=5000; dt=0.025; seed=100  # sim params\n",
    "runid=5    # seed that determines all network params\n",
    "hom=False; # homogeneous or heterogeneous network of GoCs?\n",
    "goc_fileid='GoC_'; dend_id=[1,2,5]  # prefix for goc model, and segment ids for the dendrites"
   ]
  },
  {
   "cell_type": "code",
   "execution_count": 2,
   "metadata": {},
   "outputs": [],
   "source": [
    "import generate_simple_network as gsn"
   ]
  },
  {
   "cell_type": "code",
   "execution_count": 3,
   "metadata": {},
   "outputs": [
    {
     "name": "stdout",
     "output_type": "stream",
     "text": [
      "Created parameters for 40 GoC\n",
      "60\n",
      "150\n",
      "Writing files...\n",
      "pyNeuroML >>> Written LEMS Simulation sim_GoCNet_00005_het to file: LEMS_sim_GoCNet_00005_het.xml\n"
     ]
    },
    {
     "data": {
      "text/plain": [
       "True"
      ]
     },
     "execution_count": 3,
     "metadata": {},
     "output_type": "execute_result"
    }
   ],
   "source": [
    "gsn.create_GoC_network( duration=duration, dt=dt, seed=seed, runid=runid, hom=hom, run=False, goc_fileid=goc_fileid, dend_id = dend_id)"
   ]
  },
  {
   "cell_type": "code",
   "execution_count": null,
   "metadata": {},
   "outputs": [],
   "source": []
  }
 ],
 "metadata": {
  "kernelspec": {
   "display_name": "Python 2",
   "language": "python",
   "name": "python2"
  },
  "language_info": {
   "codemirror_mode": {
    "name": "ipython",
    "version": 2
   },
   "file_extension": ".py",
   "mimetype": "text/x-python",
   "name": "python",
   "nbconvert_exporter": "python",
   "pygments_lexer": "ipython2",
   "version": "2.7.16"
  }
 },
 "nbformat": 4,
 "nbformat_minor": 2
}
