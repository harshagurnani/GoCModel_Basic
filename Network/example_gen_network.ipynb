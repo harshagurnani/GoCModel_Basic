{
 "cells": [
  {
   "cell_type": "code",
   "execution_count": 1,
   "metadata": {},
   "outputs": [],
   "source": [
    "duration=5000; dt=0.025; seed=100  # sim params\n",
    "runid=5    # seed that determines all network params\n",
    "hom=False; # homogeneous or heterogeneous network of GoCs?\n",
    "goc_path = '../Cells/Golgi/solinas/'\n",
    "goc_fileid='GoC_'; dend_id=[1,2,5]  # prefix for goc model, and segment ids for the dendrites"
   ]
  },
  {
   "cell_type": "code",
   "execution_count": 2,
   "metadata": {},
   "outputs": [],
   "source": [
    "import generate_simple_network as gsn   # both vm and spike output file"
   ]
  },
  {
   "cell_type": "code",
   "execution_count": 3,
   "metadata": {},
   "outputs": [
    {
     "name": "stdout",
     "output_type": "stream",
     "text": [
      "Created parameters for 40 GoC\n",
      "60\n",
      "150\n",
      "Writing files...\n",
      "pyNeuroML >>> Written LEMS Simulation sim_Net_GoC_00005_het to file: LEMS_sim_Net_GoC_00005_het.xml\n"
     ]
    },
    {
     "data": {
      "text/plain": [
       "True"
      ]
     },
     "execution_count": 3,
     "metadata": {},
     "output_type": "execute_result"
    }
   ],
   "source": [
    "gsn.create_GoC_network( duration=duration, dt=dt, seed=seed, runid=runid, hom=hom, run=False, goc_path=goc_path,  goc_fileid=goc_fileid, dend_id = dend_id)"
   ]
  },
  {
   "cell_type": "code",
   "execution_count": null,
   "metadata": {},
   "outputs": [],
   "source": []
  },
  {
   "cell_type": "markdown",
   "metadata": {},
   "source": [
    "## 1 pools and reduced morphology"
   ]
  },
  {
   "cell_type": "code",
   "execution_count": 4,
   "metadata": {},
   "outputs": [],
   "source": [
    "import generate_simple_network_novm as gsn2  # No voltage output file"
   ]
  },
  {
   "cell_type": "code",
   "execution_count": 5,
   "metadata": {},
   "outputs": [],
   "source": [
    "duration=1000; dt=0.001; seed=100  # sim params\n",
    "runid=3    # seed that determines all network params\n",
    "hom=True;  # homogeneous or heterogeneous network of GoCs?\n",
    "goc_path = '../Cells/Golgi/reduced/'\n",
    "goc_fileid='GoC_reduced_'; \n",
    "has2Pools=False\n",
    "dend_id=[3,4,5,6,7,8]  # prefix for goc model, and segment ids for the dendrites"
   ]
  },
  {
   "cell_type": "code",
   "execution_count": 6,
   "metadata": {},
   "outputs": [
    {
     "name": "stdout",
     "output_type": "stream",
     "text": [
      "Created parameters for 41 GoC\n",
      "60\n",
      "150\n",
      "Writing files...\n",
      "pyNeuroML >>> Written LEMS Simulation sim_Net_GoC_reduced_00003_hom to file: LEMS_sim_Net_GoC_reduced_00003_hom.xml\n"
     ]
    },
    {
     "data": {
      "text/plain": [
       "True"
      ]
     },
     "execution_count": 6,
     "metadata": {},
     "output_type": "execute_result"
    }
   ],
   "source": [
    "gsn2.create_GoC_network( duration=duration, dt=dt, seed=seed, runid=runid, hom=hom, run=False, goc_path=goc_path,  goc_fileid=goc_fileid, dend_id = dend_id)"
   ]
  },
  {
   "cell_type": "code",
   "execution_count": null,
   "metadata": {},
   "outputs": [],
   "source": []
  },
  {
   "cell_type": "markdown",
   "metadata": {},
   "source": [
    "## 2 pools and reduced morphology - doesnt work with spike output"
   ]
  },
  {
   "cell_type": "code",
   "execution_count": 7,
   "metadata": {},
   "outputs": [
    {
     "data": {
      "text/plain": [
       "\"\\nduration=1000; dt=0.001; seed=100  # sim params\\nrunid=0    # seed that determines all network params\\nhom=True;  # homogeneous or heterogeneous network of GoCs?\\ngoc_path = '../Cells/Golgi/reduced/'\\ngoc_fileid='GoC_reduced_2Pools_'; \\nhas2Pools=True\\ndend_id=[3,4,5,6,7,8]  # prefix for goc model, and segment ids for the dendrites\\n\""
      ]
     },
     "execution_count": 7,
     "metadata": {},
     "output_type": "execute_result"
    }
   ],
   "source": [
    "'''\n",
    "duration=1000; dt=0.001; seed=100  # sim params\n",
    "runid=0    # seed that determines all network params\n",
    "hom=True;  # homogeneous or heterogeneous network of GoCs?\n",
    "goc_path = '../Cells/Golgi/reduced/'\n",
    "goc_fileid='GoC_reduced_2Pools_'; \n",
    "has2Pools=True\n",
    "dend_id=[3,4,5,6,7,8]  # prefix for goc model, and segment ids for the dendrites\n",
    "'''"
   ]
  },
  {
   "cell_type": "code",
   "execution_count": null,
   "metadata": {},
   "outputs": [],
   "source": []
  },
  {
   "cell_type": "code",
   "execution_count": null,
   "metadata": {},
   "outputs": [],
   "source": []
  },
  {
   "cell_type": "code",
   "execution_count": null,
   "metadata": {},
   "outputs": [],
   "source": []
  },
  {
   "cell_type": "code",
   "execution_count": null,
   "metadata": {},
   "outputs": [],
   "source": []
  }
 ],
 "metadata": {
  "kernelspec": {
   "display_name": "Python 2",
   "language": "python",
   "name": "python2"
  },
  "language_info": {
   "codemirror_mode": {
    "name": "ipython",
    "version": 2
   },
   "file_extension": ".py",
   "mimetype": "text/x-python",
   "name": "python",
   "nbconvert_exporter": "python",
   "pygments_lexer": "ipython2",
   "version": "2.7.16"
  }
 },
 "nbformat": 4,
 "nbformat_minor": 2
}
