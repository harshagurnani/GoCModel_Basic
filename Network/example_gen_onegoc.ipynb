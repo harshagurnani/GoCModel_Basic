{
 "cells": [
  {
   "cell_type": "code",
   "execution_count": 1,
   "metadata": {},
   "outputs": [],
   "source": [
    "import simulate_one_cell as so"
   ]
  },
  {
   "cell_type": "code",
   "execution_count": 2,
   "metadata": {},
   "outputs": [
    {
     "name": "stdout",
     "output_type": "stream",
     "text": [
      "Writing files...\n",
      "pyNeuroML >>> Written LEMS Simulation sim_OneGoC_Golgi_reduced_twoCaPools_2CaPools to file: LEMS_sim_OneGoC_Golgi_reduced_twoCaPools_2CaPools.xml\n"
     ]
    },
    {
     "data": {
      "text/plain": [
       "True"
      ]
     },
     "execution_count": 2,
     "metadata": {},
     "output_type": "execute_result"
    }
   ],
   "source": [
    "goc_path = '../Cells/Golgi/'\n",
    "#goc_file = 'Golgi_040408_C1T'\n",
    "goc_file='Golgi_reduced_twoCaPools'\n",
    "has2Pools = True\n",
    "dur = 1000 #ms\n",
    "dt=0.001\n",
    "so.create_LEMS_sim(duration=dur,dt=dt, goc_path=goc_path, goc_file=goc_file, has2Pools=has2Pools)"
   ]
  },
  {
   "cell_type": "code",
   "execution_count": null,
   "metadata": {},
   "outputs": [],
   "source": []
  },
  {
   "cell_type": "code",
   "execution_count": null,
   "metadata": {},
   "outputs": [],
   "source": []
  },
  {
   "cell_type": "code",
   "execution_count": 3,
   "metadata": {},
   "outputs": [],
   "source": [
    "import simulate_one_cell_write_spike as so2"
   ]
  },
  {
   "cell_type": "code",
   "execution_count": null,
   "metadata": {},
   "outputs": [],
   "source": []
  },
  {
   "cell_type": "code",
   "execution_count": 4,
   "metadata": {},
   "outputs": [
    {
     "name": "stdout",
     "output_type": "stream",
     "text": [
      "Writing files...\n",
      "pyNeuroML >>> Written LEMS Simulation sim_OneGoC_GoC to file: LEMS_sim_OneGoC_GoC.xml\n"
     ]
    },
    {
     "data": {
      "text/plain": [
       "True"
      ]
     },
     "execution_count": 4,
     "metadata": {},
     "output_type": "execute_result"
    }
   ],
   "source": [
    "goc_path = '../Cells/Golgi/'\n",
    "goc_file='GoC'\n",
    "has2Pools = False\n",
    "dur = 1000 #ms\n",
    "dt=0.0025\n",
    "so2.create_LEMS_sim(duration=dur,dt=dt, goc_path=goc_path, goc_file=goc_file, has2Pools=has2Pools)"
   ]
  },
  {
   "cell_type": "code",
   "execution_count": null,
   "metadata": {},
   "outputs": [],
   "source": []
  },
  {
   "cell_type": "code",
   "execution_count": 5,
   "metadata": {},
   "outputs": [
    {
     "name": "stdout",
     "output_type": "stream",
     "text": [
      "Writing files...\n",
      "pyNeuroML >>> Written LEMS Simulation sim_OneGoC_Golgi_reduced_twoCaPools_2CaPools to file: LEMS_sim_OneGoC_Golgi_reduced_twoCaPools_2CaPools.xml\n",
      "pyNeuroML >>> *** Problem running command: \n",
      "pyNeuroML >>>        Command 'java -Xmx2G  -jar  \"c:\\users\\harsha\\anaconda3\\envs\\nmlpy2\\lib\\site-packages\\pyneuroml\\lib\\jNeuroML-0.8.4-jar-with-dependencies.jar\"  \"LEMS_sim_OneGoC_Golgi_reduced_twoCaPools_2CaPools.xml\"  -neuron -nogui' returned non-zero exit status 1\n",
      "pyNeuroML >>>  jNeuroML >>   jNeuroML v0.8.4\n",
      "pyNeuroML >>>  jNeuroML >>  (INFO) Reading from: D:\\Work\\Comp Models\\GoCModel_Basic\\Network\\LEMS_sim_OneGoC_Golgi_reduced_twoCaPools_2CaPools.xml\n",
      "pyNeuroML >>>  jNeuroML >>  (WARNING) Unused attribute in Component(id=alpha_c1_c2 type=forwardTransition): XMLAttribute(from, c1)  at: org.lemsml.jlems.core.type.Component.resolve(Component.java:540)\n",
      "pyNeuroML >>>  jNeuroML >>  (WARNING) Unused attribute in Component(id=alpha_c1_c2 type=forwardTransition): XMLAttribute(to, c2)  at: \n",
      "pyNeuroML >>>  jNeuroML >>  (WARNING) Unused attribute in Component(id=beta_c1_c2 type=reverseTransition): XMLAttribute(from, c1)  at: \n",
      "pyNeuroML >>>  jNeuroML >>  (WARNING) Unused attribute in Component(id=beta_c1_c2 type=reverseTransition): XMLAttribute(to, c2)  at: \n",
      "pyNeuroML >>>  jNeuroML >>  (WARNING) Unused attribute in Component(id=alpha_c2_c3 type=forwardTransition): XMLAttribute(from, c2)  at: \n",
      "pyNeuroML >>>  jNeuroML >>  (WARNING) Unused attribute in Component(id=alpha_c2_c3 type=forwardTransition): XMLAttribute(to, c3)  at: \n",
      "pyNeuroML >>>  jNeuroML >>  (WARNING) Unused attribute in Component(id=beta_c2_c3 type=reverseTransition): XMLAttribute(from, c2)  at: \n",
      "pyNeuroML >>>  jNeuroML >>  (WARNING) Unused attribute in Component(id=beta_c2_c3 type=reverseTransition): XMLAttribute(to, c3)  at: \n",
      "pyNeuroML >>>  jNeuroML >>  (WARNING) Unused attribute in Component(id=alpha_c3_c4 type=forwardTransition): XMLAttribute(from, c3)  at: \n",
      "pyNeuroML >>>  jNeuroML >>  (WARNING) Unused attribute in Component(id=alpha_c3_c4 type=forwardTransition): XMLAttribute(to, c4)  at: \n",
      "pyNeuroML >>>  jNeuroML >>  (WARNING) Unused attribute in Component(id=beta_c3_c4 type=reverseTransition): XMLAttribute(from, c3)  at: \n",
      "pyNeuroML >>>  jNeuroML >>  (WARNING) Unused attribute in Component(id=beta_c3_c4 type=reverseTransition): XMLAttribute(to, c4)  at: \n",
      "pyNeuroML >>>  jNeuroML >>  (WARNING) Unused attribute in Component(id=alpha_c3_o1 type=forwardTransition): XMLAttribute(from, c3)  at: \n",
      "pyNeuroML >>>  jNeuroML >>  (WARNING) Unused attribute in Component(id=alpha_c3_o1 type=forwardTransition): XMLAttribute(to, o1)  at: \n",
      "pyNeuroML >>>  jNeuroML >>  (WARNING) Unused attribute in Component(id=beta_c3_o1 type=reverseTransition): XMLAttribute(from, c3)  at: \n",
      "pyNeuroML >>>  jNeuroML >>  (WARNING) Unused attribute in Component(id=beta_c3_o1 type=reverseTransition): XMLAttribute(to, o1)  at: \n",
      "pyNeuroML >>>  jNeuroML >>  (WARNING) Unused attribute in Component(id=alpha_c4_o2 type=forwardTransition): XMLAttribute(from, c4)  at: \n",
      "pyNeuroML >>>  jNeuroML >>  (WARNING) Unused attribute in Component(id=alpha_c4_o2 type=forwardTransition): XMLAttribute(to, o2)  at: \n",
      "pyNeuroML >>>  jNeuroML >>  (WARNING) Unused attribute in Component(id=beta_c4_o2 type=reverseTransition): XMLAttribute(from, c4)  at: \n",
      "pyNeuroML >>>  jNeuroML >>  (WARNING) Unused attribute in Component(id=beta_c4_o2 type=reverseTransition): XMLAttribute(to, o2)  at: \n",
      "pyNeuroML >>>  jNeuroML >>  (WARNING) Unused attribute in Component(id=sim_OneGoC_Golgi_reduced_twoCaPools_2CaPools type=Simulation): XMLAttribute(seed, 100)  at: \n",
      "pyNeuroML >>>  jNeuroML >>  (INFO) Creating NeuronWriter to output files to D:\\Work\\Comp Models\\GoCModel_Basic\\Network\n",
      "pyNeuroML >>>  jNeuroML >>  (INFO) Adding simulation Component(id=sim_OneGoC_Golgi_reduced_twoCaPools_2CaPools type=Simulation) of network/component: OneGoC_Golgi_reduced_twoCaPools_2CaPools (Type: networkWithTemperature:  temperature=296.15 (SI temperature))\n",
      "pyNeuroML >>>  jNeuroML >>  (INFO) Adding population: Golgi_10comp_all_channels_twoCaPoolsPop\n",
      "pyNeuroML >>>  jNeuroML >>  (INFO) -- Writing to hoc: D:\\Work\\Comp Models\\GoCModel_Basic\\Network\\Golgi_10comp_all_channels_twoCaPools.hoc\n",
      "pyNeuroML >>>  jNeuroML >>  (INFO) -- Writing to mod: D:\\Work\\Comp Models\\GoCModel_Basic\\Network\\LeakConductance.mod\n",
      "pyNeuroML >>>  jNeuroML >>  (INFO) File D:\\Work\\Comp Models\\GoCModel_Basic\\Network\\LeakConductance.mod exists and is identical\n",
      "pyNeuroML >>>  jNeuroML >>  (INFO) -- Writing to mod: D:\\Work\\Comp Models\\GoCModel_Basic\\Network\\GolgiHCN1f.mod\n",
      "pyNeuroML >>>  jNeuroML >>  (INFO) File D:\\Work\\Comp Models\\GoCModel_Basic\\Network\\GolgiHCN1f.mod exists and is identical\n",
      "pyNeuroML >>>  jNeuroML >>  (INFO) -- Writing to mod: D:\\Work\\Comp Models\\GoCModel_Basic\\Network\\GolgiHCN1s.mod\n",
      "pyNeuroML >>>  jNeuroML >>  (INFO) File D:\\Work\\Comp Models\\GoCModel_Basic\\Network\\GolgiHCN1s.mod exists and is identical\n",
      "pyNeuroML >>>  jNeuroML >>  (INFO) -- Writing to mod: D:\\Work\\Comp Models\\GoCModel_Basic\\Network\\GolgiHCN2f.mod\n",
      "pyNeuroML >>>  jNeuroML >>  (INFO) File D:\\Work\\Comp Models\\GoCModel_Basic\\Network\\GolgiHCN2f.mod exists and is identical\n",
      "pyNeuroML >>>  jNeuroML >>  (INFO) -- Writing to mod: D:\\Work\\Comp Models\\GoCModel_Basic\\Network\\GolgiHCN2s.mod\n",
      "pyNeuroML >>>  jNeuroML >>  (INFO) File D:\\Work\\Comp Models\\GoCModel_Basic\\Network\\GolgiHCN2s.mod exists and is identical\n",
      "pyNeuroML >>>  jNeuroML >>  (INFO) -- Writing to mod: D:\\Work\\Comp Models\\GoCModel_Basic\\Network\\GolgiKA.mod\n",
      "pyNeuroML >>>  jNeuroML >>  (INFO) File D:\\Work\\Comp Models\\GoCModel_Basic\\Network\\GolgiKA.mod exists and is identical\n",
      "pyNeuroML >>>  jNeuroML >>  (INFO) -- Writing to mod: D:\\Work\\Comp Models\\GoCModel_Basic\\Network\\GolgiBK.mod\n",
      "pyNeuroML >>>  jNeuroML >>  (INFO) File D:\\Work\\Comp Models\\GoCModel_Basic\\Network\\GolgiBK.mod exists and is identical\n",
      "pyNeuroML >>>  jNeuroML >>  (INFO) -- Writing to mod: D:\\Work\\Comp Models\\GoCModel_Basic\\Network\\GolgiKM.mod\n",
      "pyNeuroML >>>  jNeuroML >>  (INFO) File D:\\Work\\Comp Models\\GoCModel_Basic\\Network\\GolgiKM.mod exists and is identical\n",
      "pyNeuroML >>>  jNeuroML >>  (INFO) -- Writing to mod: D:\\Work\\Comp Models\\GoCModel_Basic\\Network\\GolgiSK2.mod\n",
      "pyNeuroML >>>  jNeuroML >>  (INFO) File D:\\Work\\Comp Models\\GoCModel_Basic\\Network\\GolgiSK2.mod exists and is identical\n",
      "pyNeuroML >>>  jNeuroML >>  (INFO) -- Writing to mod: D:\\Work\\Comp Models\\GoCModel_Basic\\Network\\GolgiKV.mod\n",
      "pyNeuroML >>>  jNeuroML >>  (INFO) File D:\\Work\\Comp Models\\GoCModel_Basic\\Network\\GolgiKV.mod exists and is identical\n",
      "pyNeuroML >>>  jNeuroML >>  (INFO) -- Writing to mod: D:\\Work\\Comp Models\\GoCModel_Basic\\Network\\GolgiNaP.mod\n",
      "pyNeuroML >>>  jNeuroML >>  (INFO) File D:\\Work\\Comp Models\\GoCModel_Basic\\Network\\GolgiNaP.mod exists and is identical\n",
      "pyNeuroML >>>  jNeuroML >>  (INFO) -- Writing to mod: D:\\Work\\Comp Models\\GoCModel_Basic\\Network\\GolgiNaR.mod\n",
      "pyNeuroML >>>  jNeuroML >>  (INFO) File D:\\Work\\Comp Models\\GoCModel_Basic\\Network\\GolgiNaR.mod exists and is identical\n",
      "pyNeuroML >>>  jNeuroML >>  (INFO) -- Writing to mod: D:\\Work\\Comp Models\\GoCModel_Basic\\Network\\GolgiNa.mod\n",
      "pyNeuroML >>>  jNeuroML >>  (INFO) File D:\\Work\\Comp Models\\GoCModel_Basic\\Network\\GolgiNa.mod exists and is identical\n",
      "pyNeuroML >>>  jNeuroML >>  (INFO) -- Writing to mod: D:\\Work\\Comp Models\\GoCModel_Basic\\Network\\GolgiCaHVA.mod\n",
      "pyNeuroML >>>  jNeuroML >>  (INFO) File D:\\Work\\Comp Models\\GoCModel_Basic\\Network\\GolgiCaHVA.mod exists and is identical\n",
      "pyNeuroML >>>  jNeuroML >>  (INFO) -- Writing to mod: D:\\Work\\Comp Models\\GoCModel_Basic\\Network\\GolgiCaLVA.mod\n",
      "pyNeuroML >>>  jNeuroML >>  (INFO) File D:\\Work\\Comp Models\\GoCModel_Basic\\Network\\GolgiCaLVA.mod exists and is identical\n",
      "pyNeuroML >>>  jNeuroML >>  (INFO) -- Writing to mod: D:\\Work\\Comp Models\\GoCModel_Basic\\Network\\Golgi_CALC.mod\n",
      "pyNeuroML >>>  jNeuroML >>  (INFO) File D:\\Work\\Comp Models\\GoCModel_Basic\\Network\\Golgi_CALC.mod exists and is identical\n",
      "pyNeuroML >>>  jNeuroML >>  (INFO) -- Writing to mod: D:\\Work\\Comp Models\\GoCModel_Basic\\Network\\Golgi_CALC2.mod\n",
      "pyNeuroML >>>  jNeuroML >>  (INFO) File D:\\Work\\Comp Models\\GoCModel_Basic\\Network\\Golgi_CALC2.mod exists and is identical\n",
      "pyNeuroML >>>  jNeuroML >>  (INFO) Adding projections/connections...\n",
      "pyNeuroML >>>  jNeuroML >>  \n",
      "pyNeuroML >>> Error: execute_command_in_dir returned with output: None\n"
     ]
    },
    {
     "ename": "SystemExit",
     "evalue": "-1",
     "output_type": "error",
     "traceback": [
      "An exception has occurred, use %tb to see the full traceback.\n",
      "\u001b[1;31mSystemExit\u001b[0m\u001b[1;31m:\u001b[0m -1\n"
     ]
    },
    {
     "name": "stderr",
     "output_type": "stream",
     "text": [
      "c:\\users\\harsha\\anaconda3\\envs\\nmlpy2\\lib\\site-packages\\IPython\\core\\interactiveshell.py:2886: UserWarning: To exit: use 'exit', 'quit', or Ctrl-D.\n",
      "  warn(\"To exit: use 'exit', 'quit', or Ctrl-D.\", stacklevel=1)\n"
     ]
    }
   ],
   "source": [
    "goc_path = '../Cells/Golgi/'\n",
    "#goc_file = 'Golgi_040408_C1T'\n",
    "goc_file='Golgi_reduced_twoCaPools'\n",
    "has2Pools = True\n",
    "dur = 1000 #ms\n",
    "dt=0.001\n",
    "so2.create_LEMS_sim(duration=dur,dt=dt, goc_path=goc_path, goc_file=goc_file, has2Pools=has2Pools)"
   ]
  },
  {
   "cell_type": "code",
   "execution_count": null,
   "metadata": {},
   "outputs": [],
   "source": []
  }
 ],
 "metadata": {
  "kernelspec": {
   "display_name": "Python 2",
   "language": "python",
   "name": "python2"
  },
  "language_info": {
   "codemirror_mode": {
    "name": "ipython",
    "version": 2
   },
   "file_extension": ".py",
   "mimetype": "text/x-python",
   "name": "python",
   "nbconvert_exporter": "python",
   "pygments_lexer": "ipython2",
   "version": "2.7.16"
  }
 },
 "nbformat": 4,
 "nbformat_minor": 2
}
