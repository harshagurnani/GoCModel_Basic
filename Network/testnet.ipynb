{
 "cells": [
  {
   "cell_type": "code",
   "execution_count": null,
   "metadata": {},
   "outputs": [],
   "source": [
    "import neuroml as nml\n",
    "from pyneuroml import pynml\n",
    "from pyneuroml.lems import LEMSSimulation\n",
    "import lems.api as lems\n",
    "\n",
    "import os\n",
    "import sys\n",
    "sys.path.append('../PythonUtils/')\n",
    "sys.path.append('../Parameters/')\n",
    "sys.path.append('../Mechanisms/')\n",
    "\n",
    "import numpy as np\n",
    "import pickle as pkl\n",
    "import math\n",
    "\n",
    "import initialise_network_params as inp\n"
   ]
  },
  {
   "cell_type": "code",
   "execution_count": null,
   "metadata": {},
   "outputs": [],
   "source": [
    "duration=1000;dt=0.025; seed=100; runid=2; hom=False; run=False; goc_fileid='GoC_'; dend_id=[1,2,5]#dend_id = [3,4,5,6,7,8]"
   ]
  },
  {
   "cell_type": "code",
   "execution_count": null,
   "metadata": {},
   "outputs": [],
   "source": [
    "nDend = len(dend_id)"
   ]
  },
  {
   "cell_type": "code",
   "execution_count": null,
   "metadata": {},
   "outputs": [],
   "source": [
    "hom_str = 'hom' if hom else 'het'\n",
    "datadir = '../Data_SimpleNet_' + hom_str + '/'\n",
    "simid = 'TestNet_'+format(runid,'05d')+'_'+hom_str\n",
    "if not os.path.exists(datadir):\n",
    "    os.makedirs(datadir)\n"
   ]
  },
  {
   "cell_type": "code",
   "execution_count": null,
   "metadata": {},
   "outputs": [],
   "source": [
    "net = nml.Network( id=simid, type=\"networkWithTemperature\" , temperature=\"23 degC\" )\n",
    "net_doc = nml.NeuroMLDocument( id=net.id )\n",
    "net_doc.networks.append( net )"
   ]
  },
  {
   "cell_type": "code",
   "execution_count": null,
   "metadata": {},
   "outputs": [],
   "source": [
    "Input_prob = {\"MF_bg\" : 0.3,\"PF_bg\" : 0.5}\n",
    "nMF = 60\n",
    "nPF = 150\n",
    "nPop=1 if hom else 5\n",
    "\n",
    "nInputs_max = { \"MF_bg\": nMF, \"PF_bg\" : nPF }\n",
    "nInputs_frac = { \"MF_bg\": 1.0, \"PF_bg\" : 1.0}\n",
    "Input_rate = { \"MF_bg\":[5], \"PF_bg\":[2] }\n",
    "p = inp.get_simulation_params( runid, nInputs_max=nInputs_max, nInputs_frac=nInputs_frac, nGoC_pop = nPop, Input_prob=Input_prob, Input_rate=Input_rate, nGJ_dend=3 )\n"
   ]
  },
  {
   "cell_type": "code",
   "execution_count": null,
   "metadata": {},
   "outputs": [],
   "source": [
    "goc_params = np.unique( np.asarray(p[\"GoC_ParamID\"]))\n",
    "ctr=0\n",
    "goc_type=[]\n",
    "for pid in goc_params:\n",
    "    gocID = goc_fileid+format(pid, '05d')\n",
    "    goc_type.append( gocID )\n",
    "    goc_filename = '../Cells/Golgi/{}.cell.nml'.format( goc_type[ctr] )\n",
    "    goc_type[ctr] = pynml.read_neuroml2_file( goc_filename ).cells[0]\n",
    "    net_doc.includes.append( nml.IncludeType( href=goc_filename ) )\n",
    "    ctr += 1"
   ]
  },
  {
   "cell_type": "code",
   "execution_count": null,
   "metadata": {},
   "outputs": [],
   "source": [
    "goc_pop=[]\n",
    "goc=0\n",
    "for pid in range(p[\"nPop\"]):\n",
    "    goc_pop.append( nml.Population( id=goc_type[pid].id+\"Pop\", component = goc_type[pid].id, type=\"populationList\", size=p[\"nGoC_per_pop\"] ) )\n",
    "    for ctr in range(p[\"nGoC_per_pop\"]):\n",
    "        inst = nml.Instance( id=ctr )\n",
    "        goc_pop[pid].instances.append( inst )\n",
    "        inst.location = nml.Location( x=p[\"GoC_pos\"][goc,0], y=p[\"GoC_pos\"][goc,1], z=p[\"GoC_pos\"][goc,2] )\n",
    "        goc+=1\n",
    "    net.populations.append( goc_pop[pid] )"
   ]
  },
  {
   "cell_type": "code",
   "execution_count": null,
   "metadata": {},
   "outputs": [],
   "source": [
    "# ---- 3.  Gap Junctions\n",
    "gj = nml.GapJunction( id=\"GJ_0\", conductance=\"426pS\" )\t# GoC synapse\n",
    "net_doc.gap_junctions.append(gj)"
   ]
  },
  {
   "cell_type": "code",
   "execution_count": null,
   "metadata": {},
   "outputs": [],
   "source": [
    "### 3. Electrical coupling between GoCs\n",
    "\n",
    "GoCCoupling = []\n",
    "ctr=0\n",
    "for pre in range( p[\"nPop\"] ):\n",
    "    for post in range( pre, p[\"nPop\"] ):\n",
    "        GoCCoupling.append( nml.ElectricalProjection( id=\"GJ_{}_{}\".format(goc_pop[pre].id, goc_pop[post].id), presynaptic_population=goc_pop[pre].id, postsynaptic_population=goc_pop[post].id ) )\n",
    "        net.electrical_projections.append( GoCCoupling[ctr] )\n",
    "\n",
    "        gjParams = p[\"econn_pop\"][pre][post-pre]\n",
    "        for jj in range( gjParams[\"GJ_pairs\"].shape[0] ):\n",
    "            conn = nml.ElectricalConnectionInstanceW( id=jj, pre_cell='../{}/{}/{}'.format(goc_pop[pre].id, gjParams[\"GJ_pairs\"][jj,0], goc_type[pre].id), pre_segment=dend_id[int(gjParams[\"GJ_loc\"][jj,0])], pre_fraction_along='0.5', post_cell='../{}/{}/{}'.format(goc_pop[post].id, gjParams[\"GJ_pairs\"][jj,1], goc_type[post].id), post_segment=dend_id[int(gjParams[\"GJ_loc\"][jj,1])], post_fraction_along='0.5', synapse=gj.id, weight=gjParams[\"GJ_wt\"][jj] )\n",
    "            GoCCoupling[ctr].electrical_connection_instance_ws.append( conn )\n",
    "        ctr+=1"
   ]
  },
  {
   "cell_type": "code",
   "execution_count": null,
   "metadata": {},
   "outputs": [],
   "source": [
    "synapse = {}\n",
    "inputBG = {}\n",
    "\n",
    "for input in p[\"Inputs\"][\"types\"]:\n",
    "    # Load synapse type\n",
    "    Inp = p[\"Inputs\"][input]\n",
    "    net_doc.includes.append( nml.IncludeType(href=Inp[\"syn_type\"][0] ))\t# filename\n",
    "    if Inp[\"syn_type\"][1] =='ExpThreeSynapse':\n",
    "        synapse[input] = pynml.read_neuroml2_file( Inp[\"syn_type\"][0] ).exp_three_synapses[0] #Component Type\n",
    "    elif Inp[\"syn_type\"][1] =='ExpTwoSynapse':\n",
    "        synapse[input] = pynml.read_neuroml2_file( Inp[\"syn_type\"][0] ).exp_two_synapses[0]\n",
    "        \n",
    "    # Set up spike generators\n",
    "    if Inp[\"type\"] == 'poisson':\n",
    "        inputBG[input] = nml.SpikeGeneratorPoisson( id = input, average_rate=\"{} Hz\".format(Inp[\"rate\"][0]) )\n",
    "        net_doc.spike_generator_poissons.append( inputBG[input] )\n",
    "    \n",
    "    elif Inp[\"type\"] == 'constantRate':\n",
    "        inputBG[input] = nml.SpikeGenerator( id = input, period=\"{} ms\".format(1000.0/(Inp[\"rate\"][0])) )\n",
    "        net_doc.spike_generators.append( inputBG[input] )"
   ]
  },
  {
   "cell_type": "code",
   "execution_count": null,
   "metadata": {},
   "outputs": [],
   "source": [
    "inputBG_pop = {}\n",
    "for input in inputBG:\n",
    "    Inp = p[\"Inputs\"][input]\n",
    "    inputBG_pop[input] =  nml.Population(id=inputBG[input].id+\"_pop\", component=inputBG[input].id, type=\"populationList\", size=Inp[\"nInp\"])\n",
    "    for ctr in range( Inp[\"nInp\"] ):\n",
    "        inst = nml.Instance(id=ctr)\n",
    "        inputBG_pop[input].instances.append( inst )\n",
    "        inst.location = nml.Location( x=Inp[\"pos\"][ctr,0], y=Inp[\"pos\"][ctr,1], z=Inp[\"pos\"][ctr,2] )\n",
    "    net.populations.append( inputBG_pop[input] )\n",
    "\n"
   ]
  },
  {
   "cell_type": "code",
   "execution_count": null,
   "metadata": {},
   "outputs": [],
   "source": [
    "BG_Proj = {}\n",
    "for input in inputBG:\n",
    "    Inp = p[\"Inputs\"][input]\n",
    "    BG_Proj[input] = []\n",
    "    \n",
    "    for jj in range( p[\"nPop\"] ):\n",
    "        BG_Proj[input].append( nml.Projection(id='{}_to_{}'.format(input, goc_type[jj].id), presynaptic_population=inputBG_pop[input].id, postsynaptic_population=goc_pop[jj].id, synapse=synapse[input].id) )\n",
    "        net.projections.append(BG_Proj[input][jj])\n",
    "        ctr=0\n",
    "        nSyn = Inp[\"conn_pairs\"][jj].shape[1]\n",
    "        for syn in range( nSyn ):\n",
    "            pre, goc = Inp[\"conn_pairs\"][jj][:, syn]\n",
    "            if Inp[\"syn_loc\"] == 'soma':\n",
    "                conn = nml.ConnectionWD(id=ctr, pre_cell_id='../{}/{}/{}'.format(inputBG_pop[input].id, pre, inputBG[input].id), post_cell_id='../{}/{}/{}'.format(goc_pop[jj].id, goc, goc_type[jj].id), post_segment_id='0', post_fraction_along=\"0.5\", weight=Inp[\"conn_wt\"][jj][syn], delay=\"0 ms\")\t#on soma\n",
    "            elif Inp[\"syn_loc\"] == 'dend':\n",
    "                conn = nml.ConnectionWD(id=ctr, pre_cell_id='../{}/{}/{}'.format(inputBG_pop[input].id, pre, inputBG[input].id), post_cell_id='../{}/{}/{}'.format(goc_pop[jj].id, goc, goc_type[jj].id), post_segment_id=dend_id[int(Inp[\"conn_loc\"][jj][0,syn])], post_fraction_along=dend_id[int(Inp[\"conn_loc\"][jj][1,syn])], weight=Inp[\"conn_wt\"][jj][syn], delay=\"0 ms\")\t#on dend\n",
    "            BG_Proj[input][jj].connection_wds.append(conn)\n",
    "            ctr+=1\n"
   ]
  },
  {
   "cell_type": "code",
   "execution_count": null,
   "metadata": {},
   "outputs": [],
   "source": [
    "p[\"Inputs\"][input].keys()\n",
    "p[\"Inputs\"][input]['nInp']\n",
    "inputBG"
   ]
  },
  {
   "cell_type": "code",
   "execution_count": null,
   "metadata": {},
   "outputs": [],
   "source": [
    "net_filename = simid+'.net.nml'\n",
    "pynml.write_neuroml2_file( net_doc, net_filename )\n",
    "simid = 'sim_'+net.id\n",
    "ls = LEMSSimulation( simid, duration=duration, dt=dt, simulation_seed=seed )\n",
    "ls.assign_simulation_target( net.id )\n",
    "ls.include_neuroml2_file( net_filename)"
   ]
  },
  {
   "cell_type": "code",
   "execution_count": null,
   "metadata": {},
   "outputs": [],
   "source": [
    "eof0 = 'Events_file'\n",
    "ls.create_event_output_file(eof0, datadir+\"%s.spikes.dat\"%simid,format='ID_TIME')\n",
    "ctr=0\n",
    "for pid in range( p[\"nPop\"] ):\n",
    "    for jj in range( goc_pop[pid].size):\n",
    "        ls.add_selection_to_event_output_file( eof0, ctr, '{}/{}/{}'.format( goc_pop[pid].id, jj, goc_type[pid].id), 'spike' )\n",
    "        ctr += 1"
   ]
  },
  {
   "cell_type": "code",
   "execution_count": null,
   "metadata": {},
   "outputs": [],
   "source": [
    "of0 = 'Volts_file'\n",
    "ls.create_output_file(of0, datadir+\"%s.v.dat\"%simid)\n",
    "ctr=0\n",
    "for pid in range( p[\"nPop\"] ):\n",
    "    for jj in range( goc_pop[pid].size ):\n",
    "        ls.add_column_to_output_file(of0, ctr, '{}/{}/{}/v'.format( goc_pop[pid].id, jj, goc_type[pid].id))\n",
    "        ctr +=1"
   ]
  },
  {
   "cell_type": "code",
   "execution_count": null,
   "metadata": {},
   "outputs": [],
   "source": [
    "lems_simfile = ls.save_to_file()"
   ]
  },
  {
   "cell_type": "code",
   "execution_count": null,
   "metadata": {},
   "outputs": [],
   "source": [
    "res = pynml.run_lems_with_jneuroml_neuron( lems_simfile, max_memory=\"2G\", only_generate_scripts = True, compile_mods = False, nogui=True, plot=False)"
   ]
  },
  {
   "cell_type": "code",
   "execution_count": null,
   "metadata": {},
   "outputs": [],
   "source": []
  }
 ],
 "metadata": {
  "kernelspec": {
   "display_name": "Python 2",
   "language": "python",
   "name": "python2"
  },
  "language_info": {
   "codemirror_mode": {
    "name": "ipython",
    "version": 2
   },
   "file_extension": ".py",
   "mimetype": "text/x-python",
   "name": "python",
   "nbconvert_exporter": "python",
   "pygments_lexer": "ipython2",
   "version": "2.7.16"
  }
 },
 "nbformat": 4,
 "nbformat_minor": 2
}
