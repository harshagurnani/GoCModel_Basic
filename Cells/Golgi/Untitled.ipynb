{
 "cells": [
  {
   "cell_type": "code",
   "execution_count": 1,
   "metadata": {},
   "outputs": [],
   "source": [
    "import neuroml as nml\n",
    "from pyneuroml import pynml\n",
    "from pyneuroml.lems import LEMSSimulation\n",
    "import lems.api as lems\n",
    "\n",
    "import sys\n",
    "sys.path.append('../../PythonUtils')\n",
    "\n",
    "import numpy as np\n",
    "from scipy.spatial import distance\n",
    "import math\n",
    "import pickle as pkl\n",
    "import sys\n",
    "from pathlib import Path\n",
    "import initialize_cell_params as icp\n"
   ]
  },
  {
   "cell_type": "code",
   "execution_count": 15,
   "metadata": {},
   "outputs": [],
   "source": [
    "usefile='cellparams_file.pkl'\n",
    "morpho_fname='Golgi_reduced_twoCaPools.cell.nml'\n",
    "girk=False\n",
    "runid=0"
   ]
  },
  {
   "cell_type": "code",
   "execution_count": 6,
   "metadata": {},
   "outputs": [],
   "source": [
    "p = icp.get_channel_params( runid )"
   ]
  },
  {
   "cell_type": "code",
   "execution_count": 7,
   "metadata": {},
   "outputs": [],
   "source": [
    "gocID = 'GoC_2Pools_'+format(runid, '05d')\n",
    "goc = nml.Cell2CaPools( id=gocID )#--------simid\n",
    "cell_doc = nml.NeuroMLDocument( id=gocID )\n",
    "cell_doc.cell2_ca_poolses.append( goc )"
   ]
  },
  {
   "cell_type": "code",
   "execution_count": 16,
   "metadata": {},
   "outputs": [],
   "source": [
    "morpho_file = pynml.read_neuroml2_file( morpho_fname )\n"
   ]
  },
  {
   "cell_type": "code",
   "execution_count": 21,
   "metadata": {},
   "outputs": [
    {
     "data": {
      "text/plain": [
       "<neuroml.nml.nml.IntracellularProperties2CaPools at 0x74a0940>"
      ]
     },
     "execution_count": 21,
     "metadata": {},
     "output_type": "execute_result"
    }
   ],
   "source": [
    "morpho_file.cell2_ca_poolses[0].biophysical_properties2_ca_pools.intracellular_properties2_ca_pools"
   ]
  },
  {
   "cell_type": "code",
   "execution_count": 22,
   "metadata": {},
   "outputs": [],
   "source": [
    "import vary_GoC_channels_2pools as vv"
   ]
  },
  {
   "cell_type": "code",
   "execution_count": 23,
   "metadata": {},
   "outputs": [
    {
     "data": {
      "text/plain": [
       "True"
      ]
     },
     "execution_count": 23,
     "metadata": {},
     "output_type": "execute_result"
    }
   ],
   "source": [
    "vv.create_GoC(1)"
   ]
  },
  {
   "cell_type": "code",
   "execution_count": 24,
   "metadata": {},
   "outputs": [],
   "source": [
    "goc_2pools_fname = 'Golgi_reduced_twoCaPools.cell.nml'\n",
    "intracellular = pynml.read_neuroml2_file( goc_2pools_fname).cell2_ca_poolses[0].biophysical_properties2_ca_pools.intracellular_properties2_ca_pools"
   ]
  },
  {
   "cell_type": "code",
   "execution_count": 25,
   "metadata": {},
   "outputs": [
    {
     "data": {
      "text/plain": [
       "<neuroml.nml.nml.IntracellularProperties2CaPools at 0x75a0dd8>"
      ]
     },
     "execution_count": 25,
     "metadata": {},
     "output_type": "execute_result"
    }
   ],
   "source": [
    "intracellular"
   ]
  },
  {
   "cell_type": "code",
   "execution_count": 26,
   "metadata": {},
   "outputs": [
    {
     "ename": "NameError",
     "evalue": "name 'biophys' is not defined",
     "output_type": "error",
     "traceback": [
      "\u001b[1;31m---------------------------------------------------------------------------\u001b[0m",
      "\u001b[1;31mNameError\u001b[0m                                 Traceback (most recent call last)",
      "\u001b[1;32m<ipython-input-26-644c0e15ec3f>\u001b[0m in \u001b[0;36m<module>\u001b[1;34m()\u001b[0m\n\u001b[0;32m      1\u001b[0m \u001b[0mmemb\u001b[0m \u001b[1;33m=\u001b[0m \u001b[0mnml\u001b[0m\u001b[1;33m.\u001b[0m\u001b[0mMembraneProperties2CaPools\u001b[0m\u001b[1;33m(\u001b[0m\u001b[1;33m)\u001b[0m\u001b[1;33m\u001b[0m\u001b[0m\n\u001b[1;32m----> 2\u001b[1;33m \u001b[0mbiophys\u001b[0m\u001b[1;33m.\u001b[0m\u001b[0mmembrane_properties2_ca_pools\u001b[0m \u001b[1;33m=\u001b[0m \u001b[0mmemb\u001b[0m\u001b[1;33m\u001b[0m\u001b[0m\n\u001b[0m",
      "\u001b[1;31mNameError\u001b[0m: name 'biophys' is not defined"
     ]
    }
   ],
   "source": [
    "memb = nml.MembraneProperties2CaPools()\n",
    "biophys.membrane_properties2_ca_pools = memb\n"
   ]
  },
  {
   "cell_type": "code",
   "execution_count": null,
   "metadata": {},
   "outputs": [],
   "source": []
  }
 ],
 "metadata": {
  "kernelspec": {
   "display_name": "Python 2",
   "language": "python",
   "name": "python2"
  },
  "language_info": {
   "codemirror_mode": {
    "name": "ipython",
    "version": 2
   },
   "file_extension": ".py",
   "mimetype": "text/x-python",
   "name": "python",
   "nbconvert_exporter": "python",
   "pygments_lexer": "ipython2",
   "version": "2.7.16"
  }
 },
 "nbformat": 4,
 "nbformat_minor": 2
}
