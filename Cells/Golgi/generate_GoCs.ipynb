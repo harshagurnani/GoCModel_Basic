{
 "cells": [
  {
   "cell_type": "code",
   "execution_count": 1,
   "metadata": {},
   "outputs": [],
   "source": [
    "import vary_GoC_channels_2pools as vv"
   ]
  },
  {
   "cell_type": "code",
   "execution_count": 2,
   "metadata": {},
   "outputs": [
    {
     "name": "stdout",
     "output_type": "stream",
     "text": [
      "('Reading parameters from file:', 'cellparams_file.pkl')\n"
     ]
    },
    {
     "data": {
      "text/plain": [
       "True"
      ]
     },
     "execution_count": 2,
     "metadata": {},
     "output_type": "execute_result"
    }
   ],
   "source": [
    "vv.create_GoC(177, girk=False)"
   ]
  },
  {
   "cell_type": "code",
   "execution_count": 1,
   "metadata": {},
   "outputs": [],
   "source": [
    "import vary_GoC_channels as vm"
   ]
  },
  {
   "cell_type": "code",
   "execution_count": 2,
   "metadata": {},
   "outputs": [
    {
     "name": "stdout",
     "output_type": "stream",
     "text": [
      "('Reading parameters from file:', 'cellparams_file.pkl')\n",
      "('Reading parameters from file:', 'cellparams_file.pkl')\n",
      "('Reading parameters from file:', 'cellparams_file.pkl')\n",
      "('Reading parameters from file:', 'cellparams_file.pkl')\n",
      "('Reading parameters from file:', 'cellparams_file.pkl')\n",
      "('Reading parameters from file:', 'cellparams_file.pkl')\n",
      "('Reading parameters from file:', 'cellparams_file.pkl')\n",
      "('Reading parameters from file:', 'cellparams_file.pkl')\n",
      "('Reading parameters from file:', 'cellparams_file.pkl')\n",
      "('Reading parameters from file:', 'cellparams_file.pkl')\n",
      "('Reading parameters from file:', 'cellparams_file.pkl')\n",
      "('Reading parameters from file:', 'cellparams_file.pkl')\n",
      "('Reading parameters from file:', 'cellparams_file.pkl')\n",
      "('Reading parameters from file:', 'cellparams_file.pkl')\n",
      "('Reading parameters from file:', 'cellparams_file.pkl')\n",
      "('Reading parameters from file:', 'cellparams_file.pkl')\n",
      "('Reading parameters from file:', 'cellparams_file.pkl')\n",
      "('Reading parameters from file:', 'cellparams_file.pkl')\n",
      "('Reading parameters from file:', 'cellparams_file.pkl')\n",
      "('Reading parameters from file:', 'cellparams_file.pkl')\n",
      "('Reading parameters from file:', 'cellparams_file.pkl')\n",
      "('Reading parameters from file:', 'cellparams_file.pkl')\n",
      "('Reading parameters from file:', 'cellparams_file.pkl')\n",
      "('Reading parameters from file:', 'cellparams_file.pkl')\n",
      "('Reading parameters from file:', 'cellparams_file.pkl')\n",
      "('Reading parameters from file:', 'cellparams_file.pkl')\n",
      "('Reading parameters from file:', 'cellparams_file.pkl')\n",
      "('Reading parameters from file:', 'cellparams_file.pkl')\n",
      "('Reading parameters from file:', 'cellparams_file.pkl')\n",
      "('Reading parameters from file:', 'cellparams_file.pkl')\n",
      "('Reading parameters from file:', 'cellparams_file.pkl')\n",
      "('Reading parameters from file:', 'cellparams_file.pkl')\n",
      "('Reading parameters from file:', 'cellparams_file.pkl')\n",
      "('Reading parameters from file:', 'cellparams_file.pkl')\n",
      "('Reading parameters from file:', 'cellparams_file.pkl')\n",
      "('Reading parameters from file:', 'cellparams_file.pkl')\n",
      "('Reading parameters from file:', 'cellparams_file.pkl')\n",
      "('Reading parameters from file:', 'cellparams_file.pkl')\n",
      "('Reading parameters from file:', 'cellparams_file.pkl')\n",
      "('Reading parameters from file:', 'cellparams_file.pkl')\n",
      "('Reading parameters from file:', 'cellparams_file.pkl')\n",
      "('Reading parameters from file:', 'cellparams_file.pkl')\n",
      "('Reading parameters from file:', 'cellparams_file.pkl')\n",
      "('Reading parameters from file:', 'cellparams_file.pkl')\n",
      "('Reading parameters from file:', 'cellparams_file.pkl')\n",
      "('Reading parameters from file:', 'cellparams_file.pkl')\n",
      "('Reading parameters from file:', 'cellparams_file.pkl')\n",
      "('Reading parameters from file:', 'cellparams_file.pkl')\n",
      "('Reading parameters from file:', 'cellparams_file.pkl')\n",
      "('Reading parameters from file:', 'cellparams_file.pkl')\n",
      "('Reading parameters from file:', 'cellparams_file.pkl')\n"
     ]
    }
   ],
   "source": [
    "use_ids = [25,32,128,160,177,241,263,271,276,298,305,348,398,415,416,427,428,435,458,508,514,535,536,541,601,613,625,659,665,669,707,711,735,736,744,748,774,784,809,829,848,854,856,860,880,901,928,956,975,977,995]\n",
    "for id in use_ids:\n",
    "    vm.create_GoC(id, morpho_fname='GoC.cell.nml', has2Pools=False, girk=False)"
   ]
  },
  {
   "cell_type": "code",
   "execution_count": 5,
   "metadata": {},
   "outputs": [],
   "source": [
    "import vary_Girk as vg"
   ]
  },
  {
   "cell_type": "code",
   "execution_count": 6,
   "metadata": {},
   "outputs": [
    {
     "name": "stdout",
     "output_type": "stream",
     "text": [
      "('Reading parameters from file:', 'cellparams_file.pkl')\n"
     ]
    },
    {
     "data": {
      "text/plain": [
       "True"
      ]
     },
     "execution_count": 6,
     "metadata": {},
     "output_type": "execute_result"
    }
   ],
   "source": [
    "vg.create_GoC(3, girk=0.15, morpho_fname='GoC.cell.nml', has2Pools=False, add2Pools=False)"
   ]
  },
  {
   "cell_type": "code",
   "execution_count": null,
   "metadata": {},
   "outputs": [],
   "source": []
  }
 ],
 "metadata": {
  "kernelspec": {
   "display_name": "Python 2",
   "language": "python",
   "name": "python2"
  },
  "language_info": {
   "codemirror_mode": {
    "name": "ipython",
    "version": 2
   },
   "file_extension": ".py",
   "mimetype": "text/x-python",
   "name": "python",
   "nbconvert_exporter": "python",
   "pygments_lexer": "ipython2",
   "version": "2.7.16"
  }
 },
 "nbformat": 4,
 "nbformat_minor": 2
}
