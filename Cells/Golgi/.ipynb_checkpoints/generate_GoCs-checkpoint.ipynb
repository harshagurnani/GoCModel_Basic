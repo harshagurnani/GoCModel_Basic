{
 "cells": [
  {
   "cell_type": "code",
   "execution_count": 1,
   "metadata": {},
   "outputs": [],
   "source": [
    "import vary_GoC_channels_2pools as vv"
   ]
  },
  {
   "cell_type": "code",
   "execution_count": 2,
   "metadata": {},
   "outputs": [
    {
     "name": "stdout",
     "output_type": "stream",
     "text": [
      "('Reading parameters from file:', 'cellparams_file.pkl')\n"
     ]
    },
    {
     "data": {
      "text/plain": [
       "True"
      ]
     },
     "execution_count": 2,
     "metadata": {},
     "output_type": "execute_result"
    }
   ],
   "source": [
    "vv.create_GoC(177, girk=False)"
   ]
  },
  {
   "cell_type": "code",
   "execution_count": 1,
   "metadata": {},
   "outputs": [],
   "source": [
    "import vary_GoC_channels as vm"
   ]
  },
  {
   "cell_type": "code",
   "execution_count": 2,
   "metadata": {},
   "outputs": [
    {
     "name": "stdout",
     "output_type": "stream",
     "text": [
      "('Reading parameters from file:', 'cellparams_file.pkl')\n",
      "pyNeuroML >>> *** Problem running command: \n",
      "pyNeuroML >>>        Command 'java -Xmx400M  -jar  \"c:\\users\\harsha\\anaconda3\\envs\\nmlpy2\\lib\\site-packages\\pyneuroml\\lib\\jNeuroML-0.8.4-jar-with-dependencies.jar\" -validate \"GoC_00003_wGIRK.cell.nml\" ' returned non-zero exit status 1\n",
      "pyNeuroML >>>  jNeuroML >>   jNeuroML v0.8.4\n",
      "pyNeuroML >>>  jNeuroML >>  Validating: E:\\GoCModel_NoI\\Cells\\Golgi\\GoC_00003_wGIRK.cell.nml\n",
      "pyNeuroML >>>  jNeuroML >>  Valid against schema\n",
      "pyNeuroML >>>  jNeuroML >>    Test: 10004 (No repeated segmentGroup Ids allowed within a cell) failed! ... SegmentGroup: dendrite_group\n",
      "pyNeuroML >>>  jNeuroML >>  No warnings\n",
      "pyNeuroML >>>  jNeuroML >>  \n",
      "pyNeuroML >>>  jNeuroML >>  Validated 1 files: 0 passed, 1 failed\n",
      "pyNeuroML >>>  jNeuroML >>  \n",
      "pyNeuroML >>>  jNeuroML >>  \n"
     ]
    },
    {
     "data": {
      "text/plain": [
       "True"
      ]
     },
     "execution_count": 2,
     "metadata": {},
     "output_type": "execute_result"
    }
   ],
   "source": [
    "vm.create_GoC(3, morpho_fname='Golgi_reduced_twoCaPools.cell.nml', has2Pools=True, girk=False)"
   ]
  },
  {
   "cell_type": "code",
   "execution_count": 1,
   "metadata": {},
   "outputs": [],
   "source": [
    "import vary_Girk as vg"
   ]
  },
  {
   "cell_type": "code",
   "execution_count": 9,
   "metadata": {},
   "outputs": [
    {
     "name": "stdout",
     "output_type": "stream",
     "text": [
      "('Reading parameters from file:', 'cellparams_file.pkl')\n"
     ]
    },
    {
     "data": {
      "text/plain": [
       "True"
      ]
     },
     "execution_count": 9,
     "metadata": {},
     "output_type": "execute_result"
    }
   ],
   "source": [
    "vg.create_GoC(3, girk=0.15, morpho_fname='GoC.cell.nml', has2Pools=False, add2Pools=False)"
   ]
  },
  {
   "cell_type": "code",
   "execution_count": 2,
   "metadata": {},
   "outputs": [
    {
     "name": "stdout",
     "output_type": "stream",
     "text": [
      "('Reading parameters from file:', 'cellparams_file.pkl')\n"
     ]
    },
    {
     "data": {
      "text/plain": [
       "True"
      ]
     },
     "execution_count": 2,
     "metadata": {},
     "output_type": "execute_result"
    }
   ],
   "source": [
    "vg.create_GoC(3, girk=0.15)"
   ]
  },
  {
   "cell_type": "code",
   "execution_count": null,
   "metadata": {},
   "outputs": [],
   "source": []
  }
 ],
 "metadata": {
  "kernelspec": {
   "display_name": "Python 2",
   "language": "python",
   "name": "python2"
  },
  "language_info": {
   "codemirror_mode": {
    "name": "ipython",
    "version": 2
   },
   "file_extension": ".py",
   "mimetype": "text/x-python",
   "name": "python",
   "nbconvert_exporter": "python",
   "pygments_lexer": "ipython2",
   "version": "2.7.16"
  }
 },
 "nbformat": 4,
 "nbformat_minor": 2
}
